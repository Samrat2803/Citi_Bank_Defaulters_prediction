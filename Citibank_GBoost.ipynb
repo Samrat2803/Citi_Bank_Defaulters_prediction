{
 "cells": [
  {
   "cell_type": "code",
   "execution_count": 5,
   "metadata": {},
   "outputs": [],
   "source": [
    "report=[]\n",
    "n=0"
   ]
  },
  {
   "cell_type": "markdown",
   "metadata": {},
   "source": [
    "# Calling All the Libraries"
   ]
  },
  {
   "cell_type": "code",
   "execution_count": 6,
   "metadata": {},
   "outputs": [],
   "source": [
    "import numpy as np\n",
    "import pandas as pd\n",
    "import matplotlib.pyplot as plt\n",
    "import seaborn as sns\n",
    "from sklearn.preprocessing import LabelBinarizer, StandardScaler, PolynomialFeatures\n",
    "from sklearn.cluster import KMeans, AgglomerativeClustering\n",
    "from sklearn.model_selection import train_test_split, cross_val_score, GridSearchCV, RandomizedSearchCV\n",
    "from sklearn.metrics import accuracy_score, silhouette_score, SCORERS, f1_score\n",
    "from sklearn.linear_model import LogisticRegressionCV, RidgeClassifierCV, LogisticRegression, RidgeClassifier\n",
    "from sklearn.neighbors import KNeighborsClassifier\n",
    "from sklearn.tree import DecisionTreeClassifier, ExtraTreeClassifier\n",
    "from sklearn.ensemble import RandomForestClassifier, BaggingClassifier, AdaBoostClassifier, GradientBoostingClassifier\n",
    "from sklearn.pipeline import Pipeline, make_pipeline\n",
    "from sklearn.decomposition import PCA\n",
    "from sklearn.svm import SVC, LinearSVC\n",
    "\n",
    "# SMOTE\n",
    "from imblearn.over_sampling import SMOTE, ADASYN, RandomOverSampler, BorderlineSMOTE, KMeansSMOTE, SVMSMOTE, SMOTENC\n",
    "\n",
    "import warnings\n",
    "warnings.filterwarnings(\"ignore\")\n",
    "\n",
    "import time"
   ]
  },
  {
   "cell_type": "markdown",
   "metadata": {},
   "source": [
    "# EDA"
   ]
  },
  {
   "cell_type": "code",
   "execution_count": 74,
   "metadata": {},
   "outputs": [
    {
     "name": "stdout",
     "output_type": "stream",
     "text": [
      "19\n",
      "(21581, 24)\n"
     ]
    }
   ],
   "source": [
    "# Reading and merging the training files\n",
    "train1=pd.read_csv('train_1.csv')\n",
    "train2=pd.read_csv('train_2.csv')\n",
    "train3= pd.read_csv('train_3.csv')\n",
    "train4=pd.merge(train1,train2,how='outer')\n",
    "train=pd.merge(train4,train3,how='outer')\n",
    "\n",
    "#renaming the columns\n",
    "train.columns=['Ref.No','Amount of the given credit (NT dollar)','Gender','Education',\n",
    "               'Marital status','Age','repayment status in September','repayment status in August','default',\n",
    "              'repayment status in july','repayment status in june','repayment status in may','repayment status in april',\n",
    "              'Amount of bill statement','amount of bill statement in September', 'amount of bill statement in August',\n",
    "              'amount of bill statement in July','amount of bill statement in May',\n",
    "              'amount of bill statement in April','amount paid in September',\n",
    "              'amount paid in August','amount paid in July',\n",
    "              'amount paid in June','amount paid in May',\n",
    "              'amount paid in April']\n",
    "train.drop(['Ref.No'],axis=1,inplace=True)\n",
    "# drop duplicates\n",
    "print(train.duplicated().sum())\n",
    "train.drop_duplicates(inplace=True)\n",
    "print(train.shape)\n",
    "\n",
    "# dropping irrelevant columns and splitting independent and target variables\n",
    "x_train=train.drop(['default'],axis=1)\n",
    "y_train=train.default\n",
    "\n",
    "#Repeating the process for test dataset\n",
    "x_test= pd.read_csv('test.csv')[['X1', 'X2', 'X3', 'X4', 'X5', 'X6', 'X7',\n",
    "                                 'X8','X9','X10','X11','X12','X13','X14',\n",
    "                                 'X15','X16','X17','X18','X19','X20','X21','X22','X23']]\n",
    "\n",
    "x_test.columns=['Amount of the given credit (NT dollar)','Gender','Education',\n",
    "               'Marital status','Age','repayment status in September','repayment status in August',\n",
    "              'repayment status in july','repayment status in june','repayment status in may','repayment status in april',\n",
    "              'Amount of bill statement','amount of bill statement in September', 'amount of bill statement in August',\n",
    "              'amount of bill statement in July','amount of bill statement in May',\n",
    "              'amount of bill statement in April','amount paid in September',\n",
    "              'amount paid in August','amount paid in July',\n",
    "              'amount paid in June','amount paid in May',\n",
    "              'amount paid in April']\n",
    "\n",
    "# removing correlated columns\n",
    "#x_train.drop(['amount of bill statement in September','amount of bill statement in July','amount of bill statement in May'],axis=1, inplace=True)\n",
    "#x_test.drop(['amount of bill statement in September','amount of bill statement in July','amount of bill statement in May'],axis=1,inplace=True)"
   ]
  },
  {
   "cell_type": "code",
   "execution_count": 75,
   "metadata": {},
   "outputs": [],
   "source": [
    "x_train.shape\n",
    "train_length=x_train.shape[0]"
   ]
  },
  {
   "cell_type": "markdown",
   "metadata": {},
   "source": [
    "### Balancing the Dataset\n",
    "x_train,y_train=SMOTE(sampling_strategy=.7).fit_resample(x_train,y_train)\n",
    "print(x_train.shape)\n",
    "train_length=x_train.shape[0]"
   ]
  },
  {
   "cell_type": "code",
   "execution_count": 76,
   "metadata": {},
   "outputs": [],
   "source": [
    "### Applying clustering\n",
    "x_t=pd.concat([x_train,x_test])\n",
    "cluster = KMeans(n_clusters=3).fit_predict(x_t)\n",
    "x_t['cluster']=cluster\n",
    "x_train=x_t.iloc[:train_length,:]\n",
    "x_test=x_t.iloc[train_length:,:]"
   ]
  },
  {
   "cell_type": "markdown",
   "metadata": {},
   "source": [
    "### Feature Engineering\n",
    "x_t=pd.concat([x_train,x_test])\n",
    "for col in ['repayment status in September','repayment status in August', 'repayment status in july',\n",
    "            'repayment status in june', 'repayment status in may','repayment status in april']:\n",
    "    x_t[col+'=0']=pd.Series(x_t[col]==0)\n",
    "    x_t[col+'=-1']=pd.Series(x_t[col]==-1)\n",
    "    x_t[col+'=-2']=pd.Series(x_t[col]==-2)\n",
    "    x_t[x_t[col]<=0]=0\n",
    "x_train=x_t.iloc[:21600,:]\n",
    "x_test=x_t.iloc[21600:,:]"
   ]
  },
  {
   "cell_type": "code",
   "execution_count": 46,
   "metadata": {},
   "outputs": [],
   "source": [
    "### scaling\n",
    "ss= StandardScaler()\n",
    "scaledx_train= ss.fit_transform(x_train)\n",
    "scaledx_test=ss.transform(x_test)"
   ]
  },
  {
   "cell_type": "code",
   "execution_count": 51,
   "metadata": {},
   "outputs": [],
   "source": [
    "### GBoost\n",
    "\n",
    "gb=GradientBoostingClassifier(learning_rate=0.01, random_state=None, n_estimators=200)\n",
    "#learning_rate=[.005,.01,.05]\n",
    "#n_estimators=[200,300,400]\n",
    "#loss=['exponential','deviance']\n",
    "#max_depth=[2,3,4]\n",
    "#random_state=[1,2,3]\n",
    "#param_grid={'max_depth':max_depth,'random_state':random_state}\n",
    "\n",
    "#rs=RandomizedSearchCV(gb,param_distributions=param_grid)\n",
    "bg=AdaBoostClassifier(base_estimator=gb,algorithm='SAMME',learning_rate=.2,n_estimators=10)\n",
    "model=bg.fit(scaledx_train,y_train)\n",
    "scores=cross_val_score(model,scaledx_train,y_train)\n",
    "\n",
    "y_pred=model.predict(scaledx_test)\n",
    "\n",
    "n+=1\n",
    "\n",
    "report.append([time.ctime(),str(model).partition('(')[0]+str(n),'Accuracy',scores.mean(),scores.var(),scores.std()*2,\n",
    "               'Ada(GradBoost)',model])"
   ]
  },
  {
   "cell_type": "code",
   "execution_count": 52,
   "metadata": {},
   "outputs": [
    {
     "data": {
      "image/png": "[encoded data removed]",
      "text/plain": [
       "<Figure size 1080x360 with 2 Axes>"
      ]
     },
     "metadata": {
      "needs_background": "light"
     },
     "output_type": "display_data"
    },
    {
     "data": {
      "text/html": [
       "<div>\n",
       "<style scoped>\n",
       "    .dataframe tbody tr th:only-of-type {\n",
       "        vertical-align: middle;\n",
       "    }\n",
       "\n",
       "    .dataframe tbody tr th {\n",
       "        vertical-align: top;\n",
       "    }\n",
       "\n",
       "    .dataframe thead th {\n",
       "        text-align: right;\n",
       "    }\n",
       "</style>\n",
       "<table border=\"1\" class=\"dataframe\">\n",
       "  <thead>\n",
       "    <tr style=\"text-align: right;\">\n",
       "      <th></th>\n",
       "      <th>Time_Stamp</th>\n",
       "      <th>Metric</th>\n",
       "      <th>Metric(Avg.)</th>\n",
       "      <th>Variance</th>\n",
       "      <th>CI(+/-)</th>\n",
       "      <th>Remark</th>\n",
       "      <th>stored model</th>\n",
       "    </tr>\n",
       "    <tr>\n",
       "      <th>Model</th>\n",
       "      <th></th>\n",
       "      <th></th>\n",
       "      <th></th>\n",
       "      <th></th>\n",
       "      <th></th>\n",
       "      <th></th>\n",
       "      <th></th>\n",
       "    </tr>\n",
       "  </thead>\n",
       "  <tbody>\n",
       "    <tr>\n",
       "      <th>GradientBoostingClassifier1</th>\n",
       "      <td>Wed Aug  7 00:35:58 2019</td>\n",
       "      <td>Accuracy</td>\n",
       "      <td>0.818148</td>\n",
       "      <td>6.897885e-07</td>\n",
       "      <td>0.001661</td>\n",
       "      <td>base model + scaling</td>\n",
       "      <td>([DecisionTreeRegressor(criterion='friedman_ms...</td>\n",
       "    </tr>\n",
       "    <tr>\n",
       "      <th>RandomizedSearchCV2</th>\n",
       "      <td>Wed Aug  7 00:50:29 2019</td>\n",
       "      <td>Accuracy</td>\n",
       "      <td>0.818657</td>\n",
       "      <td>2.829829e-07</td>\n",
       "      <td>0.001064</td>\n",
       "      <td>base model + scaling + clustering</td>\n",
       "      <td>RandomizedSearchCV(cv='warn', error_score='rai...</td>\n",
       "    </tr>\n",
       "    <tr>\n",
       "      <th>RandomizedSearchCV3</th>\n",
       "      <td>Wed Aug  7 01:01:39 2019</td>\n",
       "      <td>Accuracy</td>\n",
       "      <td>0.818380</td>\n",
       "      <td>4.396322e-07</td>\n",
       "      <td>0.001326</td>\n",
       "      <td>base model + scaling + clustering + dropping cols</td>\n",
       "      <td>RandomizedSearchCV(cv='warn', error_score='rai...</td>\n",
       "    </tr>\n",
       "    <tr>\n",
       "      <th>RandomizedSearchCV4</th>\n",
       "      <td>Wed Aug  7 01:10:30 2019</td>\n",
       "      <td>Accuracy</td>\n",
       "      <td>0.817546</td>\n",
       "      <td>2.080028e-06</td>\n",
       "      <td>0.002884</td>\n",
       "      <td>base model + scaling + clustering + dropping cols</td>\n",
       "      <td>RandomizedSearchCV(cv='warn', error_score='rai...</td>\n",
       "    </tr>\n",
       "    <tr>\n",
       "      <th>RandomizedSearchCV5</th>\n",
       "      <td>Wed Aug  7 01:30:09 2019</td>\n",
       "      <td>Accuracy</td>\n",
       "      <td>0.818359</td>\n",
       "      <td>5.533867e-07</td>\n",
       "      <td>0.001488</td>\n",
       "      <td>base model + scaling + clustering</td>\n",
       "      <td>RandomizedSearchCV(cv='warn', error_score='rai...</td>\n",
       "    </tr>\n",
       "    <tr>\n",
       "      <th>AdaBoostClassifier6</th>\n",
       "      <td>Wed Aug  7 01:41:15 2019</td>\n",
       "      <td>Accuracy</td>\n",
       "      <td>0.814327</td>\n",
       "      <td>1.732147e-06</td>\n",
       "      <td>0.002632</td>\n",
       "      <td>Ada(GradBoost)</td>\n",
       "      <td>(([DecisionTreeRegressor(criterion='friedman_m...</td>\n",
       "    </tr>\n",
       "  </tbody>\n",
       "</table>\n",
       "</div>"
      ],
      "text/plain": [
       "                                           Time_Stamp    Metric  Metric(Avg.)  \\\n",
       "Model                                                                           \n",
       "GradientBoostingClassifier1  Wed Aug  7 00:35:58 2019  Accuracy      0.818148   \n",
       "RandomizedSearchCV2          Wed Aug  7 00:50:29 2019  Accuracy      0.818657   \n",
       "RandomizedSearchCV3          Wed Aug  7 01:01:39 2019  Accuracy      0.818380   \n",
       "RandomizedSearchCV4          Wed Aug  7 01:10:30 2019  Accuracy      0.817546   \n",
       "RandomizedSearchCV5          Wed Aug  7 01:30:09 2019  Accuracy      0.818359   \n",
       "AdaBoostClassifier6          Wed Aug  7 01:41:15 2019  Accuracy      0.814327   \n",
       "\n",
       "                                 Variance   CI(+/-)  \\\n",
       "Model                                                 \n",
       "GradientBoostingClassifier1  6.897885e-07  0.001661   \n",
       "RandomizedSearchCV2          2.829829e-07  0.001064   \n",
       "RandomizedSearchCV3          4.396322e-07  0.001326   \n",
       "RandomizedSearchCV4          2.080028e-06  0.002884   \n",
       "RandomizedSearchCV5          5.533867e-07  0.001488   \n",
       "AdaBoostClassifier6          1.732147e-06  0.002632   \n",
       "\n",
       "                                                                        Remark  \\\n",
       "Model                                                                            \n",
       "GradientBoostingClassifier1                               base model + scaling   \n",
       "RandomizedSearchCV2                          base model + scaling + clustering   \n",
       "RandomizedSearchCV3          base model + scaling + clustering + dropping cols   \n",
       "RandomizedSearchCV4          base model + scaling + clustering + dropping cols   \n",
       "RandomizedSearchCV5                          base model + scaling + clustering   \n",
       "AdaBoostClassifier6                                             Ada(GradBoost)   \n",
       "\n",
       "                                                                  stored model  \n",
       "Model                                                                           \n",
       "GradientBoostingClassifier1  ([DecisionTreeRegressor(criterion='friedman_ms...  \n",
       "RandomizedSearchCV2          RandomizedSearchCV(cv='warn', error_score='rai...  \n",
       "RandomizedSearchCV3          RandomizedSearchCV(cv='warn', error_score='rai...  \n",
       "RandomizedSearchCV4          RandomizedSearchCV(cv='warn', error_score='rai...  \n",
       "RandomizedSearchCV5          RandomizedSearchCV(cv='warn', error_score='rai...  \n",
       "AdaBoostClassifier6          (([DecisionTreeRegressor(criterion='friedman_m...  "
      ]
     },
     "execution_count": 52,
     "metadata": {},
     "output_type": "execute_result"
    }
   ],
   "source": [
    "\n",
    "Final_report=pd.DataFrame(report,columns=['Time_Stamp','Model', 'Metric', 'Metric(Avg.)', 'Variance', 'CI(+/-)','Remark','stored model'])\n",
    "Final_report.set_index(\"Model\",inplace=True)\n",
    "\n",
    "plt.figure(figsize=[15,5])\n",
    "plt.subplot(121)\n",
    "plt.plot(Final_report.index,Final_report['Metric(Avg.)'],label='Average Accuracy')\n",
    "plt.plot(Final_report.index,np.sqrt(np.sqrt(np.sqrt(Final_report['Variance']))),label='Variance^(1/8)')\n",
    "plt.xticks(rotation=80)\n",
    "plt.legend()\n",
    "\n",
    "plt.subplot(122)\n",
    "plt.plot(Final_report.index,Final_report['Metric(Avg.)']/np.sqrt(Final_report['Variance']),label='accuracy/root_variance')\n",
    "plt.xticks(rotation=80)\n",
    "plt.legend()\n",
    "\n",
    "plt.show()\n",
    "\n",
    "Final_report"
   ]
  },
  {
   "cell_type": "code",
   "execution_count": 49,
   "metadata": {},
   "outputs": [
    {
     "data": {
      "text/plain": [
       "GradientBoostingClassifier(criterion='friedman_mse', init=None,\n",
       "                           learning_rate=0.01, loss='deviance', max_depth=3,\n",
       "                           max_features=None, max_leaf_nodes=None,\n",
       "                           min_impurity_decrease=0.0, min_impurity_split=None,\n",
       "                           min_samples_leaf=1, min_samples_split=2,\n",
       "                           min_weight_fraction_leaf=0.0, n_estimators=200,\n",
       "                           n_iter_no_change=None, presort='auto',\n",
       "                           random_state=1, subsample=1.0, tol=0.0001,\n",
       "                           validation_fraction=0.1, verbose=0,\n",
       "                           warm_start=False)"
      ]
     },
     "execution_count": 49,
     "metadata": {},
     "output_type": "execute_result"
    }
   ],
   "source": [
    "model.best_estimator_"
   ]
  },
  {
   "cell_type": "code",
   "execution_count": null,
   "metadata": {},
   "outputs": [],
   "source": []
  },
  {
   "cell_type": "code",
   "execution_count": 50,
   "metadata": {},
   "outputs": [],
   "source": [
    "y_pred=Final_report.loc['RandomizedSearchCV5','stored model'].predict(scaledx_test)\n",
    "pd.DataFrame(y_pred).to_clipboard()"
   ]
  },
  {
   "cell_type": "code",
   "execution_count": 77,
   "metadata": {},
   "outputs": [],
   "source": [
    "Final_report.to_clipboard()"
   ]
  },
  {
   "cell_type": "code",
   "execution_count": 11,
   "metadata": {},
   "outputs": [],
   "source": [
    "report=report[:-1]\n",
    "n=n-1"
   ]
  },
  {
   "cell_type": "code",
   "execution_count": 103,
   "metadata": {},
   "outputs": [],
   "source": []
  },
  {
   "cell_type": "code",
   "execution_count": null,
   "metadata": {},
   "outputs": [],
   "source": []
  }
 ],
 "metadata": {
  "kernelspec": {
   "display_name": "Python 3",
   "language": "python",
   "name": "python3"
  },
  "language_info": {
   "codemirror_mode": {
    "name": "ipython",
    "version": 3
   },
   "file_extension": ".py",
   "mimetype": "text/x-python",
   "name": "python",
   "nbconvert_exporter": "python",
   "pygments_lexer": "ipython3",
   "version": "3.7.3"
  }
 },
 "nbformat": 4,
 "nbformat_minor": 2
}
